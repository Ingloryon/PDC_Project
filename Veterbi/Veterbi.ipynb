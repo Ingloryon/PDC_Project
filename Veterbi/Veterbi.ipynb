{
 "cells": [
  {
   "cell_type": "code",
   "execution_count": 1,
   "metadata": {},
   "outputs": [],
   "source": [
    "import numpy as np"
   ]
  },
  {
   "cell_type": "markdown",
   "metadata": {},
   "source": [
    "# ENCODING"
   ]
  },
  {
   "cell_type": "code",
   "execution_count": 2,
   "metadata": {},
   "outputs": [],
   "source": [
    "def getTextToTransmit():\n",
    "    with open(\"input.txt\", \"r\") as f:\n",
    "        text_to_transmit = f.read()\n",
    "    return text_to_transmit;\n",
    "\n",
    "def encodeText( text ):\n",
    "    #each character is a vector of 8 bits\n",
    "    return np.unpackbits(bytearray(text,\"utf-8\"))\n",
    "\n",
    "def convoluteEncoding(bits):\n",
    "    b=[1,1]+list(map(lambda x:(x-0.5)*2,bits))+[1,1]\n",
    "    x=[xi for j in range(2,len(b)) for xi in [b[j]*b[j-2],b[j]*b[j-1]*b[j-2]]]\n",
    "    return x\n",
    "\n",
    "def scaleArrayKTimes(k,bits):\n",
    "    return [b for b in bits for i in range(k)]\n",
    "\n",
    "def addCalibrationZeros(k,bits):\n",
    "    return np.concatenate((np.zeros(k),bits))\n",
    "\n",
    "def writeChannelInput(bits):\n",
    "    with open(\"encoded.txt\", \"w\") as f:\n",
    "        stringToSend = \"\\n\".join(map(lambda bit:str(int(bit)),bits))\n",
    "        f.write(stringToSend)"
   ]
  },
  {
   "cell_type": "code",
   "execution_count": 3,
   "metadata": {},
   "outputs": [
    {
     "name": "stdout",
     "output_type": "stream",
     "text": [
      "BITS_ARRAY_SIZE : 1284\n",
      "REPEAT_FACTOR : 38\n",
      "BITS_ARRAY_SIZE * REPEAT_FACTOR + CALIBRATION_SIZE = 1284 * 38 + 1284 = 50076\n",
      "input length : 50076 maximum is 51200\n"
     ]
    }
   ],
   "source": [
    "MAX_SIZE=51200\n",
    "NB_BYTES=80\n",
    "BITS_PER_BYTES=8\n",
    "ENCODER_FACTOR=2\n",
    "NB_FINAL_DUMMY_BITS=2\n",
    "BITS_ARRAY_SIZE=(NB_BYTES*BITS_PER_BYTES+NB_FINAL_DUMMY_BITS)*ENCODER_FACTOR\n",
    "print(\"BITS_ARRAY_SIZE :\",BITS_ARRAY_SIZE)\n",
    "\n",
    "REPEAT_FACTOR= MAX_SIZE//(BITS_ARRAY_SIZE)-1\n",
    "print(\"REPEAT_FACTOR :\",REPEAT_FACTOR)\n",
    "\n",
    "CALIBRATION_SIZE=BITS_ARRAY_SIZE\n",
    "print('BITS_ARRAY_SIZE * REPEAT_FACTOR + CALIBRATION_SIZE =',BITS_ARRAY_SIZE,'*',REPEAT_FACTOR,'+',CALIBRATION_SIZE,'=',BITS_ARRAY_SIZE*REPEAT_FACTOR+CALIBRATION_SIZE)\n",
    "\n",
    "x=addCalibrationZeros(CALIBRATION_SIZE,scaleArrayKTimes(REPEAT_FACTOR,convoluteEncoding(encodeText(getTextToTransmit()))))\n",
    "\n",
    "\n",
    "print(\"input length :\",len(x),\"maximum is\",MAX_SIZE)"
   ]
  },
  {
   "cell_type": "code",
   "execution_count": 4,
   "metadata": {},
   "outputs": [],
   "source": [
    "writeChannelInput(x)"
   ]
  },
  {
   "cell_type": "markdown",
   "metadata": {},
   "source": [
    "# DECODING"
   ]
  },
  {
   "cell_type": "code",
   "execution_count": 5,
   "metadata": {},
   "outputs": [],
   "source": [
    "def getChannelOutput():\n",
    "    with open(\"received.txt\", \"r\") as f:\n",
    "        bitArray = np.array(f.read().split('\\n'))\n",
    "        return list(map(lambda x: float(x),bitArray[:-1]))\n",
    "    #return list(x)\n",
    "    \n",
    "def getBitsFromY(Y):\n",
    "    bias=np.mean(Y[:CALIBRATION_SIZE])\n",
    "    print(\"bias =\",bias)\n",
    "    \n",
    "    #group by bloc of size 38 starting at 1280 -> get 1280 bits\n",
    "    bits=[np.mean(Y[CALIBRATION_SIZE+j*REPEAT_FACTOR:CALIBRATION_SIZE+(j+1)*REPEAT_FACTOR])-bias for j in range(BITS_ARRAY_SIZE)]\n",
    "    \n",
    "    return bits\n",
    "\n",
    "def dot(a,b):\n",
    "    return a[0]*b[0]+a[1]*b[1]"
   ]
  },
  {
   "cell_type": "code",
   "execution_count": 6,
   "metadata": {},
   "outputs": [
    {
     "name": "stdout",
     "output_type": "stream",
     "text": [
      "bias = 0.056394401915164226\n"
     ]
    }
   ],
   "source": [
    "y=getBitsFromY(getChannelOutput())"
   ]
  },
  {
   "cell_type": "code",
   "execution_count": 7,
   "metadata": {},
   "outputs": [
    {
     "name": "stdout",
     "output_type": "stream",
     "text": [
      "Nombre de bits = 1284\n",
      "Il y a 642 pairs\n"
     ]
    }
   ],
   "source": [
    "print(\"Nombre de bits =\",len(y))\n",
    "print(\"Il y a\",int(len(y)/2),\"pairs\")"
   ]
  },
  {
   "cell_type": "code",
   "execution_count": 8,
   "metadata": {},
   "outputs": [],
   "source": [
    "nb_states=int(len(y)/2)\n",
    "#attention on ajoute un etat de plus pour\n",
    "#compter l'état 0\n",
    "states_scores=np.zeros((nb_states+1,4))\n",
    "\n",
    "previous_was=np.zeros((nb_states,4),dtype='int')"
   ]
  },
  {
   "cell_type": "code",
   "execution_count": 9,
   "metadata": {},
   "outputs": [],
   "source": [
    "#To prevent from taking those path on the fist state\n",
    "states_scores[0][1]=float(\"-inf\")\n",
    "states_scores[0][2]=float(\"-inf\")\n",
    "states_scores[0][3]=float(\"-inf\")\n",
    "\n",
    "#To prevent from taking those path on the second state\n",
    "states_scores[1][2]=float(\"-inf\")\n",
    "states_scores[1][3]=float(\"-inf\")"
   ]
  },
  {
   "cell_type": "code",
   "execution_count": 10,
   "metadata": {},
   "outputs": [
    {
     "name": "stdout",
     "output_type": "stream",
     "text": [
      "(643, 4)\n",
      "(642, 4)\n"
     ]
    }
   ],
   "source": [
    "print(states_scores.shape)\n",
    "print(previous_was.shape)"
   ]
  },
  {
   "cell_type": "code",
   "execution_count": 11,
   "metadata": {},
   "outputs": [
    {
     "name": "stdout",
     "output_type": "stream",
     "text": [
      "((0, (1, 1)), (2, (-1, -1)))\n",
      "((0, (-1, -1)), (2, (1, 1)))\n",
      "((1, (1, -1)), (3, (-1, 1)))\n",
      "((1, (-1, 1)), (3, (1, -1)))\n"
     ]
    }
   ],
   "source": [
    "trellis=[]\n",
    "trellis.append(((0,(1,1)),(2,(-1,-1))))\n",
    "trellis.append(((0,(-1,-1)),(2,(1,1))))\n",
    "trellis.append(((1,(1,-1)),(3,(-1,1))))\n",
    "trellis.append(((1,(-1,1)),(3,(1,-1))))\n",
    "\n",
    "for t in trellis:\n",
    "    print(t)"
   ]
  },
  {
   "cell_type": "code",
   "execution_count": 12,
   "metadata": {},
   "outputs": [],
   "source": [
    "bit_from_previous=[1,-1,1,-1]"
   ]
  },
  {
   "cell_type": "code",
   "execution_count": 13,
   "metadata": {},
   "outputs": [],
   "source": [
    "for i in range(1,len(states_scores)):\n",
    "    for j in range(4):\n",
    "        a=states_scores[i-1][trellis[j][0][0]]+dot(trellis[j][0][1],y[(i-1)*2:i*2])\n",
    "        b=states_scores[i-1][trellis[j][1][0]]+dot(trellis[j][1][1],y[(i-1)*2:i*2])\n",
    "        \n",
    "        states_scores[i][j]=max(a,b)\n",
    "        previous_was[i-1][j]= trellis[j][0][0] if a>b else trellis[j][1][0]"
   ]
  },
  {
   "cell_type": "code",
   "execution_count": 14,
   "metadata": {},
   "outputs": [],
   "source": [
    "j=0\n",
    "bits=[]\n",
    "for i in range(len(previous_was))[::-1]:\n",
    "    prev=previous_was[i][j]\n",
    "    \n",
    "    bits=[bit_from_previous[j]]+bits\n",
    "    \n",
    "    j=prev\n"
   ]
  },
  {
   "cell_type": "code",
   "execution_count": 15,
   "metadata": {},
   "outputs": [],
   "source": [
    "bits=list(map(lambda x:int((x+1)/2),bits))"
   ]
  },
  {
   "cell_type": "code",
   "execution_count": 16,
   "metadata": {},
   "outputs": [],
   "source": [
    "binaryResult = np.array(bits[:-2])\n",
    "\n",
    "binary_decoded = np.packbits(binaryResult.reshape(-1, 8)) \n",
    "\n",
    "decoded = []\n",
    "for i in range(0, len(binary_decoded)):\n",
    "    char = binary_decoded[i].tostring().decode(\"utf-8\")\n",
    "    decoded.append(char)\n",
    "\n",
    "with open(\"output.txt\", \"w\") as f:\n",
    "    f.write(\"\".join(decoded))"
   ]
  },
  {
   "cell_type": "code",
   "execution_count": null,
   "metadata": {},
   "outputs": [],
   "source": []
  }
 ],
 "metadata": {
  "kernelspec": {
   "display_name": "Python 3",
   "language": "python",
   "name": "python3"
  },
  "language_info": {
   "codemirror_mode": {
    "name": "ipython",
    "version": 3
   },
   "file_extension": ".py",
   "mimetype": "text/x-python",
   "name": "python",
   "nbconvert_exporter": "python",
   "pygments_lexer": "ipython3",
   "version": "3.7.1"
  }
 },
 "nbformat": 4,
 "nbformat_minor": 2
}
