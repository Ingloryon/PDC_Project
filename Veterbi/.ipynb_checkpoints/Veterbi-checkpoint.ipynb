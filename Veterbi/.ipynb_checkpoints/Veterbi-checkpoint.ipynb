{
 "cells": [
  {
   "cell_type": "code",
   "execution_count": 9,
   "metadata": {},
   "outputs": [],
   "source": [
    "import numpy as np"
   ]
  },
  {
   "cell_type": "markdown",
   "metadata": {},
   "source": [
    "# ENCODING"
   ]
  },
  {
   "cell_type": "code",
   "execution_count": 10,
   "metadata": {},
   "outputs": [],
   "source": [
    "def getTextToTransmit():\n",
    "    with open(\"input.txt\", \"r\") as f:\n",
    "        text_to_transmit = f.read()\n",
    "    return text_to_transmit;\n",
    "\n",
    "def encodeText( text ):\n",
    "    #each character is a vector of 8 bits\n",
    "    return np.unpackbits(bytearray(text,\"utf-8\"))\n",
    "\n",
    "def convoluteEncoding(bits):\n",
    "    b=[1,1]+list(map(lambda x:(x-0.5)*2,bits))\n",
    "    x=[xi for j in range(2,len(b)) for xi in [b[j]*b[j-2],b[j]*b[j-1]*b[j-2]]]\n",
    "    return x\n",
    "\n",
    "def scaleArrayKTimes(k,bits):\n",
    "    return [b for b in bits for i in range(k)]\n",
    "\n",
    "def addCalibrationZeros(k,bits):\n",
    "    return np.concatenate((np.zeros(k),bits))\n",
    "\n",
    "def writeChannelInput(bits):\n",
    "    with open(\"encoded.txt\", \"w\") as f:\n",
    "        stringToSend = \"\\n\".join(map(lambda bit:str(int(bit)),bits))\n",
    "        #stringToSend = stringToSend[:-1]\n",
    "        f.write(stringToSend)"
   ]
  },
  {
   "cell_type": "code",
   "execution_count": 11,
   "metadata": {},
   "outputs": [
    {
     "name": "stdout",
     "output_type": "stream",
     "text": [
      "BITS_ARRAY_SIZE : 1280\n",
      "REPEAT_FACTOR : 38\n",
      "BITS_ARRAY_SIZE * REPEAT_FACTOR + CALIBRATION_SIZE = 1280 * 38 + 1280 = 49920\n",
      "input length : 49920 maximum is 51200\n"
     ]
    }
   ],
   "source": [
    "MAX_SIZE=51200\n",
    "NB_BYTES=80\n",
    "BITS_PER_BYTES=8\n",
    "ENCODER_FACTOR=2\n",
    "BITS_ARRAY_SIZE=NB_BYTES*BITS_PER_BYTES*ENCODER_FACTOR\n",
    "print(\"BITS_ARRAY_SIZE :\",BITS_ARRAY_SIZE)\n",
    "\n",
    "#for a mysterious reason the pipe cannot handle 51200 bits therefore we substract one on the repetition to lower our value\n",
    "REPETITION_OFFSET=1\n",
    "\n",
    "REPEAT_FACTOR= MAX_SIZE//(BITS_ARRAY_SIZE)-1-REPETITION_OFFSET\n",
    "print(\"REPEAT_FACTOR :\",REPEAT_FACTOR)\n",
    "\n",
    "CALIBRATION_SIZE=BITS_ARRAY_SIZE\n",
    "print('BITS_ARRAY_SIZE * REPEAT_FACTOR + CALIBRATION_SIZE =',BITS_ARRAY_SIZE,'*',REPEAT_FACTOR,'+',CALIBRATION_SIZE,'=',BITS_ARRAY_SIZE*REPEAT_FACTOR+CALIBRATION_SIZE)\n",
    "\n",
    "x=addCalibrationZeros(CALIBRATION_SIZE,scaleArrayKTimes(REPEAT_FACTOR,convoluteEncoding(encodeText(getTextToTransmit()))))\n",
    "\n",
    "\n",
    "print(\"input length :\",len(x),\"maximum is\",MAX_SIZE)"
   ]
  },
  {
   "cell_type": "code",
   "execution_count": 13,
   "metadata": {},
   "outputs": [],
   "source": [
    "writeChannelInput(x)"
   ]
  },
  {
   "cell_type": "markdown",
   "metadata": {},
   "source": [
    "# DECODING"
   ]
  },
  {
   "cell_type": "code",
   "execution_count": 25,
   "metadata": {},
   "outputs": [],
   "source": [
    "def getChannelOutput():\n",
    "    with open(\"received.txt\", \"r\") as f:\n",
    "        bitArray = np.array(f.read().split('\\n'))\n",
    "        return list(map(lambda x: float(x),bitArray[:-1]))"
   ]
  },
  {
   "cell_type": "code",
   "execution_count": 26,
   "metadata": {},
   "outputs": [],
   "source": [
    "y=getChannelOutput()"
   ]
  },
  {
   "cell_type": "code",
   "execution_count": null,
   "metadata": {},
   "outputs": [],
   "source": [
    "def getBitsFromY(,Y):\n",
    "    bias=np.mean(Y[:CALIBRATION_SIZE])\n",
    "    print(\"bias =\",bias)\n",
    "    \n",
    "    \n",
    "    bits=[np.mean(Y[CALIBRATION_SIZE+j*REPEAT_FACTOR:CALIBRATION_SIZE+(j+1)*REPEAT_FACTOR])-biais for j in range(BITS_ARRAY_SIZE)]\n",
    "    \n",
    "    "
   ]
  },
  {
   "cell_type": "code",
   "execution_count": 43,
   "metadata": {},
   "outputs": [],
   "source": [
    "bits=[np.mean(y[CALIBRATION_SIZE+j*REPEAT_FACTOR:CALIBRATION_SIZE+(j+1)*REPEAT_FACTOR]) for j in range(BITS_ARRAY_SIZE)]\n"
   ]
  },
  {
   "cell_type": "code",
   "execution_count": null,
   "metadata": {},
   "outputs": [],
   "source": []
  },
  {
   "cell_type": "code",
   "execution_count": null,
   "metadata": {},
   "outputs": [],
   "source": []
  },
  {
   "cell_type": "code",
   "execution_count": 34,
   "metadata": {},
   "outputs": [
    {
     "data": {
      "text/plain": [
       "[(1280, 1318), (1318, 1356), (1356, 1394)]"
      ]
     },
     "execution_count": 34,
     "metadata": {},
     "output_type": "execute_result"
    }
   ],
   "source": [
    "[(CALIBRATION_SIZE+j*REPEAT_FACTOR,CALIBRATION_SIZE+(j+1)*REPEAT_FACTOR) for j in range(3)]"
   ]
  }
 ],
 "metadata": {
  "kernelspec": {
   "display_name": "Python 3",
   "language": "python",
   "name": "python3"
  },
  "language_info": {
   "codemirror_mode": {
    "name": "ipython",
    "version": 3
   },
   "file_extension": ".py",
   "mimetype": "text/x-python",
   "name": "python",
   "nbconvert_exporter": "python",
   "pygments_lexer": "ipython3",
   "version": "3.7.1"
  }
 },
 "nbformat": 4,
 "nbformat_minor": 2
}
